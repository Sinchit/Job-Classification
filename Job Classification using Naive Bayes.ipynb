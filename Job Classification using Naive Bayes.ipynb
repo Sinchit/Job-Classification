{
 "cells": [
  {
   "cell_type": "markdown",
   "metadata": {},
   "source": [
    "### Job classification on the basis of job description using Naive bayes classifier"
   ]
  },
  {
   "cell_type": "markdown",
   "metadata": {},
   "source": [
    "First let import required libraries"
   ]
  },
  {
   "cell_type": "code",
   "execution_count": 73,
   "metadata": {},
   "outputs": [],
   "source": [
    "import pandas as pd\n",
    "from sklearn.model_selection import train_test_split\n",
    "import re\n",
    "from sklearn.feature_extraction.text import CountVectorizer\n",
    "import nltk\n",
    "from nltk.tokenize import word_tokenize\n",
    "from sklearn.naive_bayes import MultinomialNB\n",
    "import numpy as np"
   ]
  },
  {
   "cell_type": "markdown",
   "metadata": {},
   "source": [
    "Setting the display optiion so that all columns and rows will be displayed without any truncation"
   ]
  },
  {
   "cell_type": "code",
   "execution_count": 75,
   "metadata": {},
   "outputs": [
    {
     "name": "stderr",
     "output_type": "stream",
     "text": [
      "C:\\Users\\sinch\\anaconda3\\lib\\site-packages\\ipykernel_launcher.py:1: FutureWarning: Passing a negative integer is deprecated in version 1.0 and will not be supported in future version. Instead, use None to not limit the column width.\n",
      "  \"\"\"Entry point for launching an IPython kernel.\n"
     ]
    }
   ],
   "source": [
    "pd.set_option(\"display.max_colwidth\", -1)"
   ]
  },
  {
   "cell_type": "code",
   "execution_count": 76,
   "metadata": {},
   "outputs": [],
   "source": [
    "pd.set_option(\"display.max_row\", None)"
   ]
  },
  {
   "cell_type": "markdown",
   "metadata": {},
   "source": [
    "References:\n",
    "https://www.kaggle.com/airiddha/trainrev1\n",
    "https://www.kaggle.com/chadalee/text-analytics-explained-job-description-data  \n",
    "https://towardsdatascience.com/machine-learning-nlp-text-classification-using-scikit-learn-python-and-nltk-c52b92a7c73a"
   ]
  },
  {
   "cell_type": "markdown",
   "metadata": {},
   "source": [
    "Import dataset and explore it!\n",
    "\n",
    "Description of dataset is as follow:\n",
    "\n",
    "Id - A unique identifier for each job ad\n",
    "\n",
    "Title - A freetext field supplied by the job advertiser as the Title of the job ad. Normally this is a summary of the job title or role.\n",
    "\n",
    "FullDescription - The full text of the job ad as provided by the job advertiser. Whenever we see ***s, these are values stripped from the description in order to ensure that no salary information appears within the descriptions.\n",
    "\n",
    "LocationRaw - The freetext location as provided by the job advertiser.\n",
    "\n",
    "LocationNormalized - Normalized location of the job location.\n",
    "\n",
    "ContractType - full_time or part_time.\n",
    "\n",
    "ContractTime - permanent or contract.\n",
    "\n",
    "Company - the name of the employer as supplied by the job advertiser.\n",
    "\n",
    "Category - which of 30 standard job categories this ad fits into.\n",
    "\n",
    "SalaryRaw - the freetext salary field in the job advert from the advertiser.\n",
    "\n",
    "SalaryNormalised - the annualised salary interpreted by Adzuna from the raw salary. We convert this value to a categorical variable denoting 'High salary' or 'Low Salary' and try to predict those."
   ]
  },
  {
   "cell_type": "code",
   "execution_count": 3,
   "metadata": {},
   "outputs": [
    {
     "data": {
      "text/html": [
       "<div>\n",
       "<style scoped>\n",
       "    .dataframe tbody tr th:only-of-type {\n",
       "        vertical-align: middle;\n",
       "    }\n",
       "\n",
       "    .dataframe tbody tr th {\n",
       "        vertical-align: top;\n",
       "    }\n",
       "\n",
       "    .dataframe thead th {\n",
       "        text-align: right;\n",
       "    }\n",
       "</style>\n",
       "<table border=\"1\" class=\"dataframe\">\n",
       "  <thead>\n",
       "    <tr style=\"text-align: right;\">\n",
       "      <th></th>\n",
       "      <th>Id</th>\n",
       "      <th>Title</th>\n",
       "      <th>FullDescription</th>\n",
       "      <th>LocationRaw</th>\n",
       "      <th>LocationNormalized</th>\n",
       "      <th>ContractType</th>\n",
       "      <th>ContractTime</th>\n",
       "      <th>Company</th>\n",
       "      <th>Category</th>\n",
       "      <th>SalaryRaw</th>\n",
       "      <th>SalaryNormalized</th>\n",
       "      <th>SourceName</th>\n",
       "    </tr>\n",
       "  </thead>\n",
       "  <tbody>\n",
       "    <tr>\n",
       "      <th>0</th>\n",
       "      <td>12612628</td>\n",
       "      <td>Engineering Systems Analyst</td>\n",
       "      <td>Engineering Systems Analyst Dorking Surrey Sal...</td>\n",
       "      <td>Dorking, Surrey, Surrey</td>\n",
       "      <td>Dorking</td>\n",
       "      <td>NaN</td>\n",
       "      <td>permanent</td>\n",
       "      <td>Gregory Martin International</td>\n",
       "      <td>Engineering Jobs</td>\n",
       "      <td>20000 - 30000/annum 20-30K</td>\n",
       "      <td>25000</td>\n",
       "      <td>cv-library.co.uk</td>\n",
       "    </tr>\n",
       "    <tr>\n",
       "      <th>1</th>\n",
       "      <td>12612830</td>\n",
       "      <td>Stress Engineer Glasgow</td>\n",
       "      <td>Stress Engineer Glasgow Salary **** to **** We...</td>\n",
       "      <td>Glasgow, Scotland, Scotland</td>\n",
       "      <td>Glasgow</td>\n",
       "      <td>NaN</td>\n",
       "      <td>permanent</td>\n",
       "      <td>Gregory Martin International</td>\n",
       "      <td>Engineering Jobs</td>\n",
       "      <td>25000 - 35000/annum 25-35K</td>\n",
       "      <td>30000</td>\n",
       "      <td>cv-library.co.uk</td>\n",
       "    </tr>\n",
       "    <tr>\n",
       "      <th>2</th>\n",
       "      <td>12612844</td>\n",
       "      <td>Modelling and simulation analyst</td>\n",
       "      <td>Mathematical Modeller / Simulation Analyst / O...</td>\n",
       "      <td>Hampshire, South East, South East</td>\n",
       "      <td>Hampshire</td>\n",
       "      <td>NaN</td>\n",
       "      <td>permanent</td>\n",
       "      <td>Gregory Martin International</td>\n",
       "      <td>Engineering Jobs</td>\n",
       "      <td>20000 - 40000/annum 20-40K</td>\n",
       "      <td>30000</td>\n",
       "      <td>cv-library.co.uk</td>\n",
       "    </tr>\n",
       "    <tr>\n",
       "      <th>3</th>\n",
       "      <td>12613049</td>\n",
       "      <td>Engineering Systems Analyst / Mathematical Mod...</td>\n",
       "      <td>Engineering Systems Analyst / Mathematical Mod...</td>\n",
       "      <td>Surrey, South East, South East</td>\n",
       "      <td>Surrey</td>\n",
       "      <td>NaN</td>\n",
       "      <td>permanent</td>\n",
       "      <td>Gregory Martin International</td>\n",
       "      <td>Engineering Jobs</td>\n",
       "      <td>25000 - 30000/annum 25K-30K negotiable</td>\n",
       "      <td>27500</td>\n",
       "      <td>cv-library.co.uk</td>\n",
       "    </tr>\n",
       "    <tr>\n",
       "      <th>4</th>\n",
       "      <td>12613647</td>\n",
       "      <td>Pioneer, Miser Engineering Systems Analyst</td>\n",
       "      <td>Pioneer, Miser  Engineering Systems Analyst Do...</td>\n",
       "      <td>Surrey, South East, South East</td>\n",
       "      <td>Surrey</td>\n",
       "      <td>NaN</td>\n",
       "      <td>permanent</td>\n",
       "      <td>Gregory Martin International</td>\n",
       "      <td>Engineering Jobs</td>\n",
       "      <td>20000 - 30000/annum 20-30K</td>\n",
       "      <td>25000</td>\n",
       "      <td>cv-library.co.uk</td>\n",
       "    </tr>\n",
       "  </tbody>\n",
       "</table>\n",
       "</div>"
      ],
      "text/plain": [
       "         Id                                              Title  \\\n",
       "0  12612628                        Engineering Systems Analyst   \n",
       "1  12612830                            Stress Engineer Glasgow   \n",
       "2  12612844                   Modelling and simulation analyst   \n",
       "3  12613049  Engineering Systems Analyst / Mathematical Mod...   \n",
       "4  12613647         Pioneer, Miser Engineering Systems Analyst   \n",
       "\n",
       "                                     FullDescription  \\\n",
       "0  Engineering Systems Analyst Dorking Surrey Sal...   \n",
       "1  Stress Engineer Glasgow Salary **** to **** We...   \n",
       "2  Mathematical Modeller / Simulation Analyst / O...   \n",
       "3  Engineering Systems Analyst / Mathematical Mod...   \n",
       "4  Pioneer, Miser  Engineering Systems Analyst Do...   \n",
       "\n",
       "                         LocationRaw LocationNormalized ContractType  \\\n",
       "0            Dorking, Surrey, Surrey            Dorking          NaN   \n",
       "1        Glasgow, Scotland, Scotland            Glasgow          NaN   \n",
       "2  Hampshire, South East, South East          Hampshire          NaN   \n",
       "3     Surrey, South East, South East             Surrey          NaN   \n",
       "4     Surrey, South East, South East             Surrey          NaN   \n",
       "\n",
       "  ContractTime                       Company          Category  \\\n",
       "0    permanent  Gregory Martin International  Engineering Jobs   \n",
       "1    permanent  Gregory Martin International  Engineering Jobs   \n",
       "2    permanent  Gregory Martin International  Engineering Jobs   \n",
       "3    permanent  Gregory Martin International  Engineering Jobs   \n",
       "4    permanent  Gregory Martin International  Engineering Jobs   \n",
       "\n",
       "                                SalaryRaw  SalaryNormalized        SourceName  \n",
       "0              20000 - 30000/annum 20-30K             25000  cv-library.co.uk  \n",
       "1              25000 - 35000/annum 25-35K             30000  cv-library.co.uk  \n",
       "2              20000 - 40000/annum 20-40K             30000  cv-library.co.uk  \n",
       "3  25000 - 30000/annum 25K-30K negotiable             27500  cv-library.co.uk  \n",
       "4              20000 - 30000/annum 20-30K             25000  cv-library.co.uk  "
      ]
     },
     "execution_count": 3,
     "metadata": {},
     "output_type": "execute_result"
    }
   ],
   "source": [
    "df = pd.read_csv('Train_rev1.csv')\n",
    "df.head(5)"
   ]
  },
  {
   "cell_type": "code",
   "execution_count": 4,
   "metadata": {},
   "outputs": [
    {
     "name": "stdout",
     "output_type": "stream",
     "text": [
      "<class 'pandas.core.frame.DataFrame'>\n",
      "RangeIndex: 244768 entries, 0 to 244767\n",
      "Data columns (total 12 columns):\n",
      " #   Column              Non-Null Count   Dtype \n",
      "---  ------              --------------   ----- \n",
      " 0   Id                  244768 non-null  int64 \n",
      " 1   Title               244767 non-null  object\n",
      " 2   FullDescription     244768 non-null  object\n",
      " 3   LocationRaw         244768 non-null  object\n",
      " 4   LocationNormalized  244768 non-null  object\n",
      " 5   ContractType        65442 non-null   object\n",
      " 6   ContractTime        180863 non-null  object\n",
      " 7   Company             212338 non-null  object\n",
      " 8   Category            244768 non-null  object\n",
      " 9   SalaryRaw           244768 non-null  object\n",
      " 10  SalaryNormalized    244768 non-null  int64 \n",
      " 11  SourceName          244767 non-null  object\n",
      "dtypes: int64(2), object(10)\n",
      "memory usage: 22.4+ MB\n"
     ]
    }
   ],
   "source": [
    "df.info()"
   ]
  },
  {
   "cell_type": "markdown",
   "metadata": {},
   "source": [
    "Dataset has no null values, thats a good news...yippeee!! We will try to classify jobs category (column 'Category') on the basis of job description (FullDescription). Let's see how many unique values column Category has.."
   ]
  },
  {
   "cell_type": "code",
   "execution_count": 5,
   "metadata": {},
   "outputs": [
    {
     "data": {
      "text/plain": [
       "array(['Engineering Jobs', 'HR & Recruitment Jobs',\n",
       "       'Accounting & Finance Jobs', 'Healthcare & Nursing Jobs',\n",
       "       'Other/General Jobs', 'Hospitality & Catering Jobs', 'IT Jobs',\n",
       "       'Customer Services Jobs', 'Travel Jobs', 'Sales Jobs',\n",
       "       'Manufacturing Jobs', 'Teaching Jobs', 'Creative & Design Jobs',\n",
       "       'Trade & Construction Jobs', 'Property Jobs', 'Admin Jobs',\n",
       "       'Legal Jobs', 'Retail Jobs', 'Consultancy Jobs',\n",
       "       'Energy, Oil & Gas Jobs', 'Logistics & Warehouse Jobs',\n",
       "       'PR, Advertising & Marketing Jobs', 'Charity & Voluntary Jobs',\n",
       "       'Scientific & QA Jobs', 'Maintenance Jobs',\n",
       "       'Domestic help & Cleaning Jobs', 'Social work Jobs',\n",
       "       'Graduate Jobs', 'Part time Jobs'], dtype=object)"
      ]
     },
     "execution_count": 5,
     "metadata": {},
     "output_type": "execute_result"
    }
   ],
   "source": [
    "df['Category'].unique()"
   ]
  },
  {
   "cell_type": "code",
   "execution_count": 6,
   "metadata": {},
   "outputs": [
    {
     "data": {
      "text/plain": [
       "29"
      ]
     },
     "execution_count": 6,
     "metadata": {},
     "output_type": "execute_result"
    }
   ],
   "source": [
    "len(df['Category'].unique())"
   ]
  },
  {
   "cell_type": "markdown",
   "metadata": {},
   "source": [
    "Let's also ensure that we have sufficient example for each category in our dataset"
   ]
  },
  {
   "cell_type": "code",
   "execution_count": 10,
   "metadata": {},
   "outputs": [
    {
     "data": {
      "text/plain": [
       "IT Jobs                             38483\n",
       "Engineering Jobs                    25174\n",
       "Accounting & Finance Jobs           21846\n",
       "Healthcare & Nursing Jobs           21076\n",
       "Sales Jobs                          17272\n",
       "Other/General Jobs                  17055\n",
       "Teaching Jobs                       12637\n",
       "Hospitality & Catering Jobs         11351\n",
       "PR, Advertising & Marketing Jobs     8854\n",
       "Trade & Construction Jobs            8837\n",
       "HR & Recruitment Jobs                7713\n",
       "Admin Jobs                           7614\n",
       "Retail Jobs                          6584\n",
       "Customer Services Jobs               6063\n",
       "Legal Jobs                           3939\n",
       "Manufacturing Jobs                   3765\n",
       "Logistics & Warehouse Jobs           3633\n",
       "Social work Jobs                     3455\n",
       "Consultancy Jobs                     3263\n",
       "Travel Jobs                          3126\n",
       "Scientific & QA Jobs                 2489\n",
       "Charity & Voluntary Jobs             2332\n",
       "Energy, Oil & Gas Jobs               2255\n",
       "Creative & Design Jobs               1605\n",
       "Maintenance Jobs                     1542\n",
       "Graduate Jobs                        1331\n",
       "Property Jobs                        1038\n",
       "Domestic help & Cleaning Jobs         291\n",
       "Part time Jobs                        145\n",
       "Name: Category, dtype: int64"
      ]
     },
     "execution_count": 10,
     "metadata": {},
     "output_type": "execute_result"
    }
   ],
   "source": [
    "df['Category'].value_counts()"
   ]
  },
  {
   "cell_type": "code",
   "execution_count": 36,
   "metadata": {},
   "outputs": [
    {
     "data": {
      "text/plain": [
       "IT Jobs                             0.157222\n",
       "Engineering Jobs                    0.102848\n",
       "Accounting & Finance Jobs           0.089252\n",
       "Healthcare & Nursing Jobs           0.086106\n",
       "Sales Jobs                          0.070565\n",
       "Other/General Jobs                  0.069678\n",
       "Teaching Jobs                       0.051628\n",
       "Hospitality & Catering Jobs         0.046375\n",
       "PR, Advertising & Marketing Jobs    0.036173\n",
       "Trade & Construction Jobs           0.036104\n",
       "HR & Recruitment Jobs               0.031511\n",
       "Admin Jobs                          0.031107\n",
       "Retail Jobs                         0.026899\n",
       "Customer Services Jobs              0.024770\n",
       "Legal Jobs                          0.016093\n",
       "Manufacturing Jobs                  0.015382\n",
       "Logistics & Warehouse Jobs          0.014843\n",
       "Social work Jobs                    0.014115\n",
       "Consultancy Jobs                    0.013331\n",
       "Travel Jobs                         0.012771\n",
       "Scientific & QA Jobs                0.010169\n",
       "Charity & Voluntary Jobs            0.009527\n",
       "Energy, Oil & Gas Jobs              0.009213\n",
       "Creative & Design Jobs              0.006557\n",
       "Maintenance Jobs                    0.006300\n",
       "Graduate Jobs                       0.005438\n",
       "Property Jobs                       0.004241\n",
       "Domestic help & Cleaning Jobs       0.001189\n",
       "Part time Jobs                      0.000592\n",
       "Name: Category, dtype: float64"
      ]
     },
     "execution_count": 36,
     "metadata": {},
     "output_type": "execute_result"
    }
   ],
   "source": [
    "df['Category'].value_counts(normalize=True)"
   ]
  },
  {
   "cell_type": "markdown",
   "metadata": {},
   "source": [
    "Clearly, our dataset is an imbalanced dataset. \n",
    "Let's see how many unique values column FullDescription has.."
   ]
  },
  {
   "cell_type": "code",
   "execution_count": 11,
   "metadata": {},
   "outputs": [
    {
     "data": {
      "text/plain": [
       "0         Engineering Systems Analyst Dorking Surrey Sal...\n",
       "1         Stress Engineer Glasgow Salary **** to **** We...\n",
       "2         Mathematical Modeller / Simulation Analyst / O...\n",
       "3         Engineering Systems Analyst / Mathematical Mod...\n",
       "4         Pioneer, Miser  Engineering Systems Analyst Do...\n",
       "                                ...                        \n",
       "244763    Position: Qualified Teacher Subject/Specialism...\n",
       "244764    Position: Qualified Teacher or NQT Subject/Spe...\n",
       "244765    Position: Qualified Teacher Subject/Specialism...\n",
       "244766    Position: Qualified Teacher Subject/Specialism...\n",
       "244767    This entrepreneurial and growing private equit...\n",
       "Name: FullDescription, Length: 244768, dtype: object"
      ]
     },
     "execution_count": 11,
     "metadata": {},
     "output_type": "execute_result"
    }
   ],
   "source": [
    "df['FullDescription']"
   ]
  },
  {
   "cell_type": "code",
   "execution_count": 9,
   "metadata": {},
   "outputs": [
    {
     "data": {
      "text/plain": [
       "242138"
      ]
     },
     "execution_count": 9,
     "metadata": {},
     "output_type": "execute_result"
    }
   ],
   "source": [
    "len(df['FullDescription'].unique().tolist())"
   ]
  },
  {
   "cell_type": "markdown",
   "metadata": {},
   "source": [
    "Some problems with the way FullDescription has been encoded"
   ]
  },
  {
   "cell_type": "code",
   "execution_count": 24,
   "metadata": {},
   "outputs": [],
   "source": [
    "# some problems with the way FullDescription has been encoded\n",
    "def convert_utf8(s):\n",
    "    return str(s)\n",
    "\n",
    "df['FullDescription'] = df['FullDescription'].map(convert_utf8)"
   ]
  },
  {
   "cell_type": "code",
   "execution_count": 25,
   "metadata": {},
   "outputs": [
    {
     "data": {
      "text/plain": [
       "0     Engineering Systems Analyst Dorking Surrey Salary ****K Our client is located in Dorking, Surrey and are looking for Engineering Systems Analyst our client provides specialist software development Keywords Mathematical Modelling, Risk Analysis, System Modelling, Optimisation, MISER, PIONEEER Engineering Systems Analyst Dorking Surrey Salary ****K                                                                                                                                                                                                                                                                                                                                                                                                                                                                                                                                                                                                                                                                                                                                                                                                                                                                                                                                                                                                                                                                                                                                                                                                                                                                                                                                                                                                                                                                                                                                                                                                                                                                                                                                                                                                                                                                                         \n",
       "1     Stress Engineer Glasgow Salary **** to **** We re currently looking for talented engineers to join our growing Glasgow team at a variety of levels. The roles are ideally suited to high calibre engineering graduates with any level of appropriate experience, so that we can give you the opportunity to use your technical skills to provide high quality input to our aerospace projects, spanning both aerostructures and aeroengines. In return, you can expect good career opportunities and the chance for advancement and personal and professional development, support while you gain Chartership and some opportunities to possibly travel or work in other offices, in or outside of the UK. The Requirements You will need to have a good engineering degree that includes structural analysis (such as aeronautical, mechanical, automotive, civil) with some experience in a professional engineering environment relevant to (but not limited to) the aerospace sector. You will need to demonstrate experience in at least one or more of the following areas: Structural/stress analysis Composite stress analysis (any industry) Linear and nonlinear finite element analysis Fatigue and damage tolerance Structural dynamics Thermal analysis Aerostructures experience You will also be expected to demonstrate the following qualities: A strong desire to progress quickly to a position of leadership Professional approach Strong communication skills, written and verbal Commercial awareness Team working, being comfortable working in international teams and self managing PLEASE NOTE SECURITY CLEARANCE IS REQUIRED FOR THIS ROLE Stress Engineer Glasgow Salary **** to ****                                                                                                                                                                                                                                                                                                                                                                                                                                                                                                                                    \n",
       "2     Mathematical Modeller / Simulation Analyst / Operational Analyst Basingstoke, Hampshire Up to ****K AAE pension contribution, private medical and dental The opportunity Our client is an independent consultancy firm which has an opportunity for a Data Analyst with 35 years experience. The role will require the successful candidate to demonstrate their ability to analyse a problem and arrive at a solution, with varying levels of data being available. Essential skills Thorough knowledge of Excel and proven ability to utilise this to create powerful decision support models Experience in Modelling and Simulation Techniques, Experience of techniques such as Discrete Event Simulation and/or SD modelling Mathematical/scientific background  minimum degree qualified Proven analytical and problem solving skills Self Starter Ability to develop solid working relationships In addition to formal qualifications and experience, the successful candidate will require excellent written and verbal communication skills, be energetic, enterprising and have a determination to succeed. They will be required to build solid working relationships, both internally with colleagues and, most importantly, externally with our clients. They must be comfortable working independently to deliver against challenging client demands. The offices are located in Basingstoke, Hampshire, but our client work for clients worldwide. The successful candidate must therefore be prepared to undertake work at client sites for short periods of time. Physics, Mathematics, Modelling, Simulation, Analytical, Operational Research, Mathematical Modelling Mathematical Modeller / Simulation Analyst / Operational Analyst Basingstoke, Hampshire ****K AAE pension contribution, private medical and dental                                                                                                                                                                                                                                                                                                                                                                                                          \n",
       "3     Engineering Systems Analyst / Mathematical Modeller. Our client is a highly successful and respected Consultancy providing specialist software development MISER, PIONEER, Maths, Mathematical, Optimisation, Risk Analysis, Asset Management, Water Industry, Access, Excel, VBA, SQL, Systems . Engineering Systems Analyst / Mathematical Modeller. Salary  ****K****K negotiable Location Dorking, Surrey                                                                                                                                                                                                                                                                                                                                                                                                                                                                                                                                                                                                                                                                                                                                                                                                                                                                                                                                                                                                                                                                                                                                                                                                                                                                                                                                                                                                                                                                                                                                                                                                                                                                                                                                                                                                                                        \n",
       "4     Pioneer, Miser  Engineering Systems Analyst Dorking  Surrey Salary ****K Located in Surrey, our client provides specialist software development Pioneer, Miser  Engineering Systems Analyst Dorking  Surrey Salary ****K                                                                                                                                                                                                                                                                                                                                                                                                                                                                                                                                                                                                                                                                                                                                                                                                                                                                                                                                                                                                                                                                                                                                                                                                                                                                                                                                                                                                                                                                                                                                                                                                                                                                                                                                                                                                                                                                                                                                                                                                                             \n",
       "                                                                                                                ...                                                                                                                                                                                                                                                                                                                                                                                                                                                                                                                                                                                                                                                                                                                                                                                                                                                                                                                                                                                                                                                                                                                                                                                                                                                                                                                                                                                                                                                                                                                                                                                                                                                                                                                                                                                                                                                                                                                                                                                                                                                                                                                                        \n",
       "15    Our client are a leading supplier of precision machined, high integrity components, integrated kits of parts and complete mechanical assemblies. Due to an large increase in workload they are recruiting a Quality Engineer Reporting to the Quality Manager, the successful individual will be responsible for providing documentation to fulfil our customers quality assurance requirements on specific contracts, whilst maintaining a system of storage and retrieval for documentation. The role will also support the internal audit schedule, performing audits as required. Responsibilities include: Documentation Checking all vendor supplied documentation to ensure it complies with the requirements or Express s customer specifications. Produce accurate, legible documentation packs, in accordance with customer requirements. Quality Systems Maintain system of storage and retrieval of all associated QA documentation in accordance with ISO9001:**** Certification Ensure certificates of conformance are checked, in accordance with the C of C matrix and any applicable concessions are referenced Material Certification Verify and approve certification on receipt for conformance to customer requirements and resolve discrepancies with suppliers Non conformance Raise and submit supplier reject reports and concessions. Store all responses received in relevant databases. Internal Auditing Carry out internal audits as and when required in line with the internal audit schedule. Identify and report all nonconformances within Quality Management System, and assist in corrective actions to close them out Supplier Rejects Ensure corrective action is received for supplier rejects submitted to key suppliers The Individual: Has experience within the quality department of a related company in a similar role Ideally from a mechanical or manufacturing engineering background. Ideally be familiar with the range of processes involved in the markets of Oil Must have good communication and organisational skills Has the ability to work as part of a team or as an individual. Has the ability to be customer facing and discuss technical / quality issues with vendors and customers\n",
       "16    A leading Subsea Engineering Company require a driven and highlyskilled Principal Controls Engineer who will provide technical work on all of the company s controlsrelated concerns and in charge of generating interest from potential clients. As a Principal Controls Engineer, you will be in charge of organising and ensuring engineering calculations, do reports, review designs, give technical assistance to all problems related to cable engineering and come up with methods for cable modelling. The successful candidate will have at least 15 years of Subsea Controls Engineering experience in the Oil and Gas industry. Preferably, you must have a degree in Engineering and a background in Subsea design, construction, installation, operation, or decommissioning and have covered almost all related Subsea Production Systems. This is a brilliant role which includes a very competitive salary package with flexible work hours to the most qualified candidates                                                                                                                                                                                                                                                                                                                                                                                                                                                                                                                                                                                                                                                                                                                                                                                                                                                                                                                                                                                                                                                                                                                                                                                                                                                        \n",
       "17    A popular hotel located in Norfolk which is a very busy operation has a position available for a Chef de Partie Role: A Chef de Partie capable of coping well under pressure is required to join the kitchen team at a hotel that has an excellent reputation for offering high quality dining to its guests and has gained accreditations in the main restaurant.The busy Brasserie style restaurant regularly serves **** covers for lunch and dinner so this Chef de Partie role will require you to be organised on your section ensuring all prep is complete to the standards expected by the Head Chef before each service. Requirements: All Chef de Parties applying for this role must have a strong background with highlights previous AA Rosette experience in a high volume operation.A candidate who is self motivated and capable of working well in a busy team of chefs would be ideal for this role. Benefits Include: Uniform Provided Meals on Duty Accommodation Available Share of Tips – IRO **** Per Month Excellent Opportunities To Progress If you are interested in this position or would like information on the other positions we are recruiting for or any temporary assignments please send your CV by clicking on the 'apply now' button below and our consultant Sean Bosley will do his utmost to assist you in your search for employment. In line with the requirements of the Asylum Immigration Act **** all applicants must be eligible to live and work in the UK. Documented evidence of the eligibility will be required from candidates as part of the recruitment process. This job was originally posted as www.caterer.com/JobSeeking/ChefdePartieAwardWinningDiningLiveInShareofTips_job****                                                                                                                                                                                                                                                                                                                                                                                                                                                                                                      \n",
       "18    Senior Fatigue Static stress (metallic or composite) Finite element analysis. Senior Fatigue Aerospace  ****K****K (dep on exp)  benefits package Bristol, Avon                                                                                                                                                                                                                                                                                                                                                                                                                                                                                                                                                                                                                                                                                                                                                                                                                                                                                                                                                                                                                                                                                                                                                                                                                                                                                                                                                                                                                                                                                                                                                                                                                                                                                                                                                                                                                                                                                                                                                                                                                                                                                      \n",
       "19    We are currently recruiting on behalf of our client who have an exciting opportunity available for a CE Produce CE Control Panel designs  Genera Arrangements, Detail drawings, Schematics Diagrams, Interlock Diagrams for typically PLC Specification of hardware and production of parts list. Manufacturing specification. Ensure Company policies and procedures are being applied across the projects. Manage the interface between CE Communicate at all levels with both internal and external customers to meet their expectations while meeting the project budget and programme constraints. Support the Lead Engineer in the delivery of scope to budget and programme. Provide technical expertise to tenders as and when required. Provide input to the development of the CE&l function and resource                                                                                                                                                                                                                                                                                                                                                                                                                                                                                                                                                                                                                                                                                                                                                                                                                                                                                                                                                                                                                                                                                                                                                                                                                                                                                                                                                                                                                                  \n",
       "Name: FullDescription, Length: 20, dtype: object"
      ]
     },
     "execution_count": 25,
     "metadata": {},
     "output_type": "execute_result"
    }
   ],
   "source": [
    "df['FullDescription'][0:20]"
   ]
  },
  {
   "cell_type": "markdown",
   "metadata": {},
   "source": [
    "Extracting required columns in a separate database"
   ]
  },
  {
   "cell_type": "code",
   "execution_count": 26,
   "metadata": {},
   "outputs": [],
   "source": [
    "df_new = df.filter(['Category','FullDescription'], axis=1)"
   ]
  },
  {
   "cell_type": "code",
   "execution_count": 27,
   "metadata": {},
   "outputs": [
    {
     "data": {
      "text/html": [
       "<div>\n",
       "<style scoped>\n",
       "    .dataframe tbody tr th:only-of-type {\n",
       "        vertical-align: middle;\n",
       "    }\n",
       "\n",
       "    .dataframe tbody tr th {\n",
       "        vertical-align: top;\n",
       "    }\n",
       "\n",
       "    .dataframe thead th {\n",
       "        text-align: right;\n",
       "    }\n",
       "</style>\n",
       "<table border=\"1\" class=\"dataframe\">\n",
       "  <thead>\n",
       "    <tr style=\"text-align: right;\">\n",
       "      <th></th>\n",
       "      <th>Category</th>\n",
       "      <th>FullDescription</th>\n",
       "    </tr>\n",
       "  </thead>\n",
       "  <tbody>\n",
       "    <tr>\n",
       "      <th>0</th>\n",
       "      <td>Engineering Jobs</td>\n",
       "      <td>Engineering Systems Analyst Dorking Surrey Salary ****K Our client is located in Dorking, Surrey and are looking for Engineering Systems Analyst our client provides specialist software development Keywords Mathematical Modelling, Risk Analysis, System Modelling, Optimisation, MISER, PIONEEER Engineering Systems Analyst Dorking Surrey Salary ****K</td>\n",
       "    </tr>\n",
       "    <tr>\n",
       "      <th>1</th>\n",
       "      <td>Engineering Jobs</td>\n",
       "      <td>Stress Engineer Glasgow Salary **** to **** We re currently looking for talented engineers to join our growing Glasgow team at a variety of levels. The roles are ideally suited to high calibre engineering graduates with any level of appropriate experience, so that we can give you the opportunity to use your technical skills to provide high quality input to our aerospace projects, spanning both aerostructures and aeroengines. In return, you can expect good career opportunities and the chance for advancement and personal and professional development, support while you gain Chartership and some opportunities to possibly travel or work in other offices, in or outside of the UK. The Requirements You will need to have a good engineering degree that includes structural analysis (such as aeronautical, mechanical, automotive, civil) with some experience in a professional engineering environment relevant to (but not limited to) the aerospace sector. You will need to demonstrate experience in at least one or more of the following areas: Structural/stress analysis Composite stress analysis (any industry) Linear and nonlinear finite element analysis Fatigue and damage tolerance Structural dynamics Thermal analysis Aerostructures experience You will also be expected to demonstrate the following qualities: A strong desire to progress quickly to a position of leadership Professional approach Strong communication skills, written and verbal Commercial awareness Team working, being comfortable working in international teams and self managing PLEASE NOTE SECURITY CLEARANCE IS REQUIRED FOR THIS ROLE Stress Engineer Glasgow Salary **** to ****</td>\n",
       "    </tr>\n",
       "    <tr>\n",
       "      <th>2</th>\n",
       "      <td>Engineering Jobs</td>\n",
       "      <td>Mathematical Modeller / Simulation Analyst / Operational Analyst Basingstoke, Hampshire Up to ****K AAE pension contribution, private medical and dental The opportunity Our client is an independent consultancy firm which has an opportunity for a Data Analyst with 35 years experience. The role will require the successful candidate to demonstrate their ability to analyse a problem and arrive at a solution, with varying levels of data being available. Essential skills Thorough knowledge of Excel and proven ability to utilise this to create powerful decision support models Experience in Modelling and Simulation Techniques, Experience of techniques such as Discrete Event Simulation and/or SD modelling Mathematical/scientific background  minimum degree qualified Proven analytical and problem solving skills Self Starter Ability to develop solid working relationships In addition to formal qualifications and experience, the successful candidate will require excellent written and verbal communication skills, be energetic, enterprising and have a determination to succeed. They will be required to build solid working relationships, both internally with colleagues and, most importantly, externally with our clients. They must be comfortable working independently to deliver against challenging client demands. The offices are located in Basingstoke, Hampshire, but our client work for clients worldwide. The successful candidate must therefore be prepared to undertake work at client sites for short periods of time. Physics, Mathematics, Modelling, Simulation, Analytical, Operational Research, Mathematical Modelling Mathematical Modeller / Simulation Analyst / Operational Analyst Basingstoke, Hampshire ****K AAE pension contribution, private medical and dental</td>\n",
       "    </tr>\n",
       "    <tr>\n",
       "      <th>3</th>\n",
       "      <td>Engineering Jobs</td>\n",
       "      <td>Engineering Systems Analyst / Mathematical Modeller. Our client is a highly successful and respected Consultancy providing specialist software development MISER, PIONEER, Maths, Mathematical, Optimisation, Risk Analysis, Asset Management, Water Industry, Access, Excel, VBA, SQL, Systems . Engineering Systems Analyst / Mathematical Modeller. Salary  ****K****K negotiable Location Dorking, Surrey</td>\n",
       "    </tr>\n",
       "    <tr>\n",
       "      <th>4</th>\n",
       "      <td>Engineering Jobs</td>\n",
       "      <td>Pioneer, Miser  Engineering Systems Analyst Dorking  Surrey Salary ****K Located in Surrey, our client provides specialist software development Pioneer, Miser  Engineering Systems Analyst Dorking  Surrey Salary ****K</td>\n",
       "    </tr>\n",
       "  </tbody>\n",
       "</table>\n",
       "</div>"
      ],
      "text/plain": [
       "           Category  \\\n",
       "0  Engineering Jobs   \n",
       "1  Engineering Jobs   \n",
       "2  Engineering Jobs   \n",
       "3  Engineering Jobs   \n",
       "4  Engineering Jobs   \n",
       "\n",
       "                                                                                                                                                                                                                                                                                                                                                                                                                                                                                                                                                                                                                                                                                                                                                                                                                                                                                                                                                                                                                                                                                                                                                                                                                                                                                                                                                                                                                                                                                                                                                                                                                                                                                                                                                                                                                               FullDescription  \n",
       "0  Engineering Systems Analyst Dorking Surrey Salary ****K Our client is located in Dorking, Surrey and are looking for Engineering Systems Analyst our client provides specialist software development Keywords Mathematical Modelling, Risk Analysis, System Modelling, Optimisation, MISER, PIONEEER Engineering Systems Analyst Dorking Surrey Salary ****K                                                                                                                                                                                                                                                                                                                                                                                                                                                                                                                                                                                                                                                                                                                                                                                                                                                                                                                                                                                                                                                                                                                                                                                                                                                                                                                                                                                                                                                                                 \n",
       "1  Stress Engineer Glasgow Salary **** to **** We re currently looking for talented engineers to join our growing Glasgow team at a variety of levels. The roles are ideally suited to high calibre engineering graduates with any level of appropriate experience, so that we can give you the opportunity to use your technical skills to provide high quality input to our aerospace projects, spanning both aerostructures and aeroengines. In return, you can expect good career opportunities and the chance for advancement and personal and professional development, support while you gain Chartership and some opportunities to possibly travel or work in other offices, in or outside of the UK. The Requirements You will need to have a good engineering degree that includes structural analysis (such as aeronautical, mechanical, automotive, civil) with some experience in a professional engineering environment relevant to (but not limited to) the aerospace sector. You will need to demonstrate experience in at least one or more of the following areas: Structural/stress analysis Composite stress analysis (any industry) Linear and nonlinear finite element analysis Fatigue and damage tolerance Structural dynamics Thermal analysis Aerostructures experience You will also be expected to demonstrate the following qualities: A strong desire to progress quickly to a position of leadership Professional approach Strong communication skills, written and verbal Commercial awareness Team working, being comfortable working in international teams and self managing PLEASE NOTE SECURITY CLEARANCE IS REQUIRED FOR THIS ROLE Stress Engineer Glasgow Salary **** to ****                                                                                                                            \n",
       "2  Mathematical Modeller / Simulation Analyst / Operational Analyst Basingstoke, Hampshire Up to ****K AAE pension contribution, private medical and dental The opportunity Our client is an independent consultancy firm which has an opportunity for a Data Analyst with 35 years experience. The role will require the successful candidate to demonstrate their ability to analyse a problem and arrive at a solution, with varying levels of data being available. Essential skills Thorough knowledge of Excel and proven ability to utilise this to create powerful decision support models Experience in Modelling and Simulation Techniques, Experience of techniques such as Discrete Event Simulation and/or SD modelling Mathematical/scientific background  minimum degree qualified Proven analytical and problem solving skills Self Starter Ability to develop solid working relationships In addition to formal qualifications and experience, the successful candidate will require excellent written and verbal communication skills, be energetic, enterprising and have a determination to succeed. They will be required to build solid working relationships, both internally with colleagues and, most importantly, externally with our clients. They must be comfortable working independently to deliver against challenging client demands. The offices are located in Basingstoke, Hampshire, but our client work for clients worldwide. The successful candidate must therefore be prepared to undertake work at client sites for short periods of time. Physics, Mathematics, Modelling, Simulation, Analytical, Operational Research, Mathematical Modelling Mathematical Modeller / Simulation Analyst / Operational Analyst Basingstoke, Hampshire ****K AAE pension contribution, private medical and dental  \n",
       "3  Engineering Systems Analyst / Mathematical Modeller. Our client is a highly successful and respected Consultancy providing specialist software development MISER, PIONEER, Maths, Mathematical, Optimisation, Risk Analysis, Asset Management, Water Industry, Access, Excel, VBA, SQL, Systems . Engineering Systems Analyst / Mathematical Modeller. Salary  ****K****K negotiable Location Dorking, Surrey                                                                                                                                                                                                                                                                                                                                                                                                                                                                                                                                                                                                                                                                                                                                                                                                                                                                                                                                                                                                                                                                                                                                                                                                                                                                                                                                                                                                                                \n",
       "4  Pioneer, Miser  Engineering Systems Analyst Dorking  Surrey Salary ****K Located in Surrey, our client provides specialist software development Pioneer, Miser  Engineering Systems Analyst Dorking  Surrey Salary ****K                                                                                                                                                                                                                                                                                                                                                                                                                                                                                                                                                                                                                                                                                                                                                                                                                                                                                                                                                                                                                                                                                                                                                                                                                                                                                                                                                                                                                                                                                                                                                                                                                     "
      ]
     },
     "execution_count": 27,
     "metadata": {},
     "output_type": "execute_result"
    }
   ],
   "source": [
    "df_new.head()"
   ]
  },
  {
   "cell_type": "markdown",
   "metadata": {},
   "source": [
    "Performing startified Splitting the data into train and test data as we have imbalanced data"
   ]
  },
  {
   "cell_type": "code",
   "execution_count": 30,
   "metadata": {},
   "outputs": [],
   "source": [
    "X_train, X_val, y_train, y_val = train_test_split(df_new['FullDescription'], df['Category'], test_size=0.2, stratify= df['Category'])"
   ]
  },
  {
   "cell_type": "code",
   "execution_count": 37,
   "metadata": {},
   "outputs": [
    {
     "data": {
      "text/plain": [
       "IT Jobs                             0.157221\n",
       "Engineering Jobs                    0.102848\n",
       "Accounting & Finance Jobs           0.089253\n",
       "Healthcare & Nursing Jobs           0.086107\n",
       "Sales Jobs                          0.070567\n",
       "Other/General Jobs                  0.069678\n",
       "Teaching Jobs                       0.051631\n",
       "Hospitality & Catering Jobs         0.046376\n",
       "PR, Advertising & Marketing Jobs    0.036172\n",
       "Trade & Construction Jobs           0.036106\n",
       "HR & Recruitment Jobs               0.031509\n",
       "Admin Jobs                          0.031106\n",
       "Retail Jobs                         0.026898\n",
       "Customer Services Jobs              0.024768\n",
       "Legal Jobs                          0.016092\n",
       "Manufacturing Jobs                  0.015382\n",
       "Logistics & Warehouse Jobs          0.014841\n",
       "Social work Jobs                    0.014115\n",
       "Consultancy Jobs                    0.013329\n",
       "Travel Jobs                         0.012772\n",
       "Scientific & QA Jobs                0.010168\n",
       "Charity & Voluntary Jobs            0.009529\n",
       "Energy, Oil & Gas Jobs              0.009213\n",
       "Creative & Design Jobs              0.006557\n",
       "Maintenance Jobs                    0.006302\n",
       "Graduate Jobs                       0.005439\n",
       "Property Jobs                       0.004239\n",
       "Domestic help & Cleaning Jobs       0.001190\n",
       "Part time Jobs                      0.000592\n",
       "Name: Category, dtype: float64"
      ]
     },
     "execution_count": 37,
     "metadata": {},
     "output_type": "execute_result"
    }
   ],
   "source": [
    "y_train.value_counts(normalize=True)"
   ]
  },
  {
   "cell_type": "code",
   "execution_count": 38,
   "metadata": {},
   "outputs": [
    {
     "data": {
      "text/plain": [
       "IT Jobs                             0.157229\n",
       "Engineering Jobs                    0.102852\n",
       "Accounting & Finance Jobs           0.089247\n",
       "Healthcare & Nursing Jobs           0.086101\n",
       "Sales Jobs                          0.070556\n",
       "Other/General Jobs                  0.069678\n",
       "Teaching Jobs                       0.051620\n",
       "Hospitality & Catering Jobs         0.046370\n",
       "PR, Advertising & Marketing Jobs    0.036177\n",
       "Trade & Construction Jobs           0.036095\n",
       "HR & Recruitment Jobs               0.031519\n",
       "Admin Jobs                          0.031111\n",
       "Retail Jobs                         0.026903\n",
       "Customer Services Jobs              0.024778\n",
       "Legal Jobs                          0.016097\n",
       "Manufacturing Jobs                  0.015382\n",
       "Logistics & Warehouse Jobs          0.014851\n",
       "Social work Jobs                    0.014115\n",
       "Consultancy Jobs                    0.013339\n",
       "Travel Jobs                         0.012767\n",
       "Scientific & QA Jobs                0.010173\n",
       "Charity & Voluntary Jobs            0.009519\n",
       "Energy, Oil & Gas Jobs              0.009213\n",
       "Creative & Design Jobs              0.006557\n",
       "Maintenance Jobs                    0.006292\n",
       "Graduate Jobs                       0.005434\n",
       "Property Jobs                       0.004249\n",
       "Domestic help & Cleaning Jobs       0.001185\n",
       "Part time Jobs                      0.000592\n",
       "Name: Category, dtype: float64"
      ]
     },
     "execution_count": 38,
     "metadata": {},
     "output_type": "execute_result"
    }
   ],
   "source": [
    "y_val.value_counts(normalize=True)"
   ]
  },
  {
   "cell_type": "markdown",
   "metadata": {},
   "source": [
    "Cleaning up the descriptions\n",
    "A look at the description above shows us that these descriptions contain - numbers, urls and certain strings as '*' which I believe are either phone numbers or salary figures that have been removed so that these do not affect our predictions! We will have to remove these strings before we try out any analytics!\n",
    "\n",
    "Approach - We will use the substitute feature to find and substitute these anomalous strings in our job descriptions"
   ]
  },
  {
   "cell_type": "code",
   "execution_count": 42,
   "metadata": {},
   "outputs": [],
   "source": [
    "def remove_nums(s):\n",
    "    return re.sub('[^\\s]*[0-9]+[^\\s]*', \"\", s)\n",
    "\n",
    "X_train = X_train.map(remove_nums)"
   ]
  },
  {
   "cell_type": "code",
   "execution_count": 43,
   "metadata": {},
   "outputs": [],
   "source": [
    "# Remove the urls - Anything that has .com, .co.uk or www. is a url!\n",
    "def remove_urls(s):\n",
    "    s = re.sub('[^\\s]*.com[^\\s]*', \"\", s)\n",
    "    s = re.sub('[^\\s]*www.[^\\s]*', \"\", s)\n",
    "    s = re.sub('[^\\s]*.co.uk[^\\s]*', \"\", s)\n",
    "    return s\n",
    "\n",
    "X_train  = X_train.map(remove_urls)"
   ]
  },
  {
   "cell_type": "code",
   "execution_count": 44,
   "metadata": {},
   "outputs": [],
   "source": [
    "# Remove the star_words\n",
    "def remove_star_words(s):\n",
    "    return re.sub('[^\\s]*[\\*]+[^\\s]*', \"\", s)\n",
    "\n",
    "X_train = X_train.map(remove_star_words)"
   ]
  },
  {
   "cell_type": "code",
   "execution_count": 54,
   "metadata": {},
   "outputs": [],
   "source": [
    "# Remove the punctuations\n",
    "from string import punctuation\n",
    "\n",
    "def remove_punctuation(s):\n",
    "    global punctuation\n",
    "    for p in punctuation:\n",
    "        s = s.replace(p, '')\n",
    "    return s\n",
    "\n",
    "X_train = X_train.map(remove_punctuation)"
   ]
  },
  {
   "cell_type": "code",
   "execution_count": 56,
   "metadata": {},
   "outputs": [],
   "source": [
    "# Convert to lower case\n",
    "X_train= X_train.map(lambda x: x.lower())"
   ]
  },
  {
   "cell_type": "code",
   "execution_count": 62,
   "metadata": {},
   "outputs": [
    {
     "data": {
      "text/plain": [
       "'engineering systems analyst dorking surrey salary  our client is located in dorking surrey and are looking for engineering systems analyst our client provides specialist software development keywords mathematical modelling risk analysis system modelling optimisation miser pioneeer engineering systems analyst dorking surrey salary '"
      ]
     },
     "execution_count": 62,
     "metadata": {},
     "output_type": "execute_result"
    }
   ],
   "source": [
    "X_train[0]"
   ]
  },
  {
   "cell_type": "markdown",
   "metadata": {},
   "source": [
    "Scikit-learn has a high level component which will create feature vectors for us ‘CountVectorizer’.  Here by doing ‘count_vect.fit_transform(twenty_train.data)’, we are learning the vocabulary dictionary and it returns a Document-Term matrix. [n_samples, n_features]."
   ]
  },
  {
   "cell_type": "code",
   "execution_count": 80,
   "metadata": {},
   "outputs": [
    {
     "data": {
      "text/plain": [
       "(195814, 176855)"
      ]
     },
     "execution_count": 80,
     "metadata": {},
     "output_type": "execute_result"
    }
   ],
   "source": [
    "count_vec = CountVectorizer(input='content', lowercase=True, analyzer='word')\n",
    "X_train_count_vec = count_vec.fit_transform(X_train)\n",
    "X_train_count_vec.shape"
   ]
  },
  {
   "cell_type": "markdown",
   "metadata": {},
   "source": [
    "There are various algorithms which can be used for text classification. We are using ‘Naive Bayes (NB)’ classifier"
   ]
  },
  {
   "cell_type": "code",
   "execution_count": 72,
   "metadata": {},
   "outputs": [],
   "source": [
    "clf = MultinomialNB().fit(X_train_count_vec, y_train)"
   ]
  },
  {
   "cell_type": "markdown",
   "metadata": {},
   "source": [
    "Processing of test data for prediction"
   ]
  },
  {
   "cell_type": "code",
   "execution_count": 77,
   "metadata": {},
   "outputs": [],
   "source": [
    "X_val = X_val.map(remove_nums)\n",
    "X_val  = X_val.map(remove_urls)\n",
    "X_val = X_val.map(remove_star_words)\n",
    "X_val = X_val.map(remove_punctuation)\n",
    "X_val= X_val.map(lambda x: x.lower())"
   ]
  },
  {
   "cell_type": "code",
   "execution_count": 81,
   "metadata": {},
   "outputs": [],
   "source": [
    "X_val_count_vec = count_vec.transform(X_val)"
   ]
  },
  {
   "cell_type": "code",
   "execution_count": 83,
   "metadata": {},
   "outputs": [
    {
     "data": {
      "text/plain": [
       "(48954, 176855)"
      ]
     },
     "execution_count": 83,
     "metadata": {},
     "output_type": "execute_result"
    }
   ],
   "source": [
    "X_val_count_vec.shape"
   ]
  },
  {
   "cell_type": "code",
   "execution_count": 84,
   "metadata": {},
   "outputs": [
    {
     "data": {
      "text/plain": [
       "0.6698124770192425"
      ]
     },
     "execution_count": 84,
     "metadata": {},
     "output_type": "execute_result"
    }
   ],
   "source": [
    "predicted = clf.predict(X_val_count_vec)\n",
    "np.mean(predicted == y_val)"
   ]
  },
  {
   "cell_type": "code",
   "execution_count": 85,
   "metadata": {},
   "outputs": [
    {
     "name": "stdout",
     "output_type": "stream",
     "text": [
      "Accounting & Finance Jobs\n"
     ]
    }
   ],
   "source": [
    "print(predicted[0])"
   ]
  },
  {
   "cell_type": "code",
   "execution_count": 88,
   "metadata": {},
   "outputs": [
    {
     "data": {
      "text/plain": [
       "216634    the fixed  portfolio analyst will work with the global bond team in providing support for their portfolio management activities specific responsibilities will include  interacting closely with portfolio managers and traders to ensure timely and accurate execution of investment strategies across client portfolios  determining the effective implementation of ideas across portfolio mandates with different constraints  rebalancing portfolios in response to cash flows benchmark changes market price movements and changes in client guidelines  monitoring positions and verifying that transactions are consistent with client guidelines  interacting with many areas of the firm to improve processes and minimize operational risks  monitoring risk and performance applicants should have the following  a background of relevant professional experience  demonstrate a basic understanding of and a strong interest in fixed  investing  have strong analytical skills a quantitative orientation and be detail oriented  be able to work well under pressure and prioritise tasks  have strong interpersonal skills in order to interact effectively with investment and other business professionals around the firm  be able to think creatively and initiate projects that lead to improved implementation of strategies and trades our client is a leading global investment management firm competitive package your application will be reviewed by michael page please be aware we receive a high volume of applications for every role advertised regularly receive applications from candidates who exceed the job credentials we will only contact you within the next  days if you are selected for interview where specific uk qualifications are required we will take into account overseas equivalents michael page is a world leading recruitment consultancy this job was originally posted as                                                                                                                                                                                                                                                                                                                                                                                                                                                                                                                                                                                                                                                                                                                                                                                                                                                                                                                                                                                                                                                                                                                                                                                                                                                                                                                                                                                                                                                                                                                                                                                                                                                                                                                                                                                                                                                                                                                                                                                                                                                 \n",
       "31408     a property professional is required to manage moves and changes for an fm provider and one of their key clients by liaising with business it and service providers in arranging relocations within uk office and retail locations we are looking for a candidate who can demonstrate experience of budget management and control of small revenue works and who has experience of controlling a multi site team involving hard and soft services for a multi site set up we will want to see extensive experience of project management dealing with subcontractors and supply chain within  multi faceted operation the role will involve liaison with business to ensure that requirements are fully documented and where it related are progressed with the necessary parties the nature of business is such that both tact and guile will be important attributes management of nominated removal and electrical contractors to ensure all  within the move process are covered and actioned as appropriate to maintain the moves and changes registers  schedules to manage all documentation in relation to all moves and changes developing best practice for fm services on site to drive service and quality improvements across the contract carry out regular site audits regular quality checks feedback training coaching and guidance all queries responded to within agreed timescales providing assistance with  related requests ensure that all aspects of health and safety are covered and the correct documentation is held ensure that moves meet  regulations own and assist in a variety of projects received from the business ensure all project work  within the required timescales liaise with the small works team on revenue and capital projects coordinate and implement all equipment and premises related moves for the site responsible for managing and reporting on budgets and resources and for the management of the delivery of sub contracted services we are recruiting for the role urgently so please send your applications across by  to give yourself the best chance of success interviews will be held shortly after this date for more information please call  and speak to stephanie burton hays specialist recruitment limited acts as an employment agency for permanent recruitment and employment business for the supply of temporary workers by applying for this job you accept the t cs privacy policy and disclaimers which can be found at  this job was originally posted as                                                                                                                                                                                                                                                                                                                                                                                                                                                                                                                                                                                                                                                                                                                                                                                                                                                                                                                                                                                                                                                                                                                                                                                                                                                                                                                                                                                                                                           \n",
       "215181    store manager  high st kensington london  this is a fantastic opportunity to join one of the leading upmarket  our client continues to redefine the luxury travel experience for their customers they are now looking for a store manager to join their team in london you will need to be well travelled with excellent interpersonal  skills looking for a new challenge if you have previous experience as a successful travel store manager outstanding customer service skills experienced in time and people management delegation and negotiation skills with a focus on meeting targets driving sales and kpis and a desire to work in a fast paced environment we would love to hear from you key responsibilities accountable for meeting and exceeding retail sales targets drive all sales and to convert bookings by closing the sale and driving top line figures whilst achieving the budgeted operating profit measure the financial performance of your staff overall and as individuals against the costs of running the store to ensure the best possible productivity day to day running of the store including operations and administration  establish a highly attractive and engaging innovative professional and  retail environment to create the ideal conditions for effective selling and industryleading innovative customer service in keeping with the brand vision of being the uk’s leading superpremium  research the local area resident and business client bases and  to gain a thorough understanding of your target market and identify opportunities for developing local sales revenues develop local marketing initiatives and campaigns and set up instore events where appropriate  beneficial to drive sales and build relationships with loyal local customers establish and develop links with local businesses possibly working together with local retail groups to secure opportunities to build  relationships to provide travel services for local business employees assume overall responsibility for training and development of all staff working with the sales training team to ensure appropriate formal product and reservations system training as well as firsthand experience of our destinations via educationals is delivered as and when required ensure there is a structured formal management process in place including regular weekly coaching one to one meetings and formal performance reviews ensure all staff have an excellent understanding of all destinations sold and other travel partners featured in the store and each  an expert in at least one particular region ensure brochure stocks are managed such that all current titles are available to customers while ensuring that supplies are used cost effectively and delivering good conversion levels forecast walkin business plan staffing levels and opening hours accordingly well in advance to ensure excellent customer service is maintained at all times we are looking for  judgement can demonstrate achievements in meeting tough sales targets and delivering exceptional customer service at the same time shows by their actions that they consider exceptional customer service to be of paramount importance understands the importance of the sales and customer service function as a crucial medium for conveying  brand vision and values proven ability to motivate enthuse and lead a team thrives during periods of pressure and high volume of work and able to create an upbeat motivating sales environment persuasive articulate and influential but down to earth and friendly with customers staff and colleagues alike flexible and adaptable to changing priorities resourceful and practical can think on your feet and solve problems quickly and effectively positive “can do” attitude for further information call jason on    or send your cv to jobstandtjobs ref  this job was originally posted as \n",
       "138280    project manager consumer productsmedical devices    oxfordshire permanent cubiq recruitment is supporting a key client in their search for a project manager to lead a number of new product development npd projects from kickoff through to production launch acting as the primary customer interface and facilitating the cross divisional activities you will be fully responsible for managing project scope deliverables and delivery strategy you will possess a proven track record of project delivery within an rd  product development environment a strong degree within an engineering discipline or equivalent and  knowledge role lead a section or whole product development projects coordinating and monitoring the project activities to establish and agree the project strategy  both development tooling and manufacturing to develop and manage a toplevel ms project plan for project activities required to achieve agreed project deadlines and to coordinate the business resources necessary to achieve these goals to confirm an appropriately experienced project team has been allocated to the project raising any shortfalls or concerns over team member allocation or performance with the appropriate line manager to motivate the project team to achieve overall programme needs to maintain the project plan as an accurate reflection of current project  to agreed timing and deadlines and to  requirements progress and change to the project team to ensure that any changes to product specification project scope or deliverables requested by the customer are identified and considered for  and timing implications and that they  to the relevant commercial manager before agreement and implementation ensuring uncontrolled creep of project scope does not  has been experiencing sustained growth over the past  years and are looking for quality individuals to maintain this growth they offer good salaries excellent progression and a great working environment please submit your cv via the link provided and contact ben reading on apply online only for further details key word search project manager project leader npi npd engineering engineer product design design engineer consumer product development medical automotive scientific fmcg consumer automotive                                                                                                                                                                                                                                                                                                                                                                                                                                                                                                                                                                                                                                                                                                                                                                                                                                                                                                                                                                                                                                                                                                                                                                                                                                                                                                                                                                                                                                                                                                                                                                                                                                               \n",
       "157816    established city based lloyds broker seeks to secure a new job for a property ownersreal estate account handler to work as part of a large team to provide account support services for an allocated portfolio of clients to aid in the overall service provision with emphasis on administrative support to account executivesassociate directors to clients ensuring that the business is retained and developed maintenance of records preparation of slipsformsdocuments etc and verification of information and resolution of routine problems exprience of real estate or property owners is preferred                                                                                                                                                                                                                                                                                                                                                                                                                                                                                                                                                                                                                                                                                                                                                                                                                                                                                                                                                                                                                                                                                                                                                                                                                                                                                                                                                                                                                                                                                                                                                                                                                                                                                                                                                                                                                                                                                                                                                                                                                                                                                                                                                                                                                                                                                                                                                                                                                                                                                                                                                                                                                                                                                                                                                                                                                                                                                                                                                                                                                                                                                                                                                                                                                                                                                                                                                                            \n",
       "Name: FullDescription, dtype: object"
      ]
     },
     "execution_count": 88,
     "metadata": {},
     "output_type": "execute_result"
    }
   ],
   "source": [
    "X_val.head()"
   ]
  },
  {
   "cell_type": "code",
   "execution_count": 89,
   "metadata": {},
   "outputs": [
    {
     "data": {
      "text/plain": [
       "216634    Accounting & Finance Jobs\n",
       "31408     Trade & Construction Jobs\n",
       "215181    Travel Jobs              \n",
       "138280    Engineering Jobs         \n",
       "157816    Accounting & Finance Jobs\n",
       "Name: Category, dtype: object"
      ]
     },
     "execution_count": 89,
     "metadata": {},
     "output_type": "execute_result"
    }
   ],
   "source": [
    "y_val.head()"
   ]
  },
  {
   "cell_type": "code",
   "execution_count": null,
   "metadata": {},
   "outputs": [],
   "source": []
  }
 ],
 "metadata": {
  "kernelspec": {
   "display_name": "Python 3",
   "language": "python",
   "name": "python3"
  },
  "language_info": {
   "codemirror_mode": {
    "name": "ipython",
    "version": 3
   },
   "file_extension": ".py",
   "mimetype": "text/x-python",
   "name": "python",
   "nbconvert_exporter": "python",
   "pygments_lexer": "ipython3",
   "version": "3.7.6"
  }
 },
 "nbformat": 4,
 "nbformat_minor": 4
}
